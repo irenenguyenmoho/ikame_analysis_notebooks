{
 "cells": [
  {
   "cell_type": "markdown",
   "id": "873acaaa",
   "metadata": {},
   "source": [
    "## Analyze Farm City User Review \n"
   ]
  },
  {
   "cell_type": "code",
   "execution_count": 41,
   "id": "666d0eff",
   "metadata": {},
   "outputs": [
    {
     "name": "stderr",
     "output_type": "stream",
     "text": [
      "[nltk_data] Downloading package stopwords to\n",
      "[nltk_data]     C:\\Users\\iKame_LinhNK\\AppData\\Roaming\\nltk_data...\n",
      "[nltk_data]   Unzipping corpora\\stopwords.zip.\n"
     ]
    }
   ],
   "source": [
    "from googletrans import Translator\n",
    "import pandas as pd \n",
    "nltk.download(\"stopwords\")\n",
    "from nltk.corpus import stopwords\n",
    "from nltk.tokenize import word_tokenize\n",
    "from nltk.stem import WordNetLemmatizer\n",
    "import string"
   ]
  },
  {
   "cell_type": "code",
   "execution_count": 57,
   "id": "4faad585",
   "metadata": {},
   "outputs": [
    {
     "name": "stderr",
     "output_type": "stream",
     "text": [
      "[nltk_data] Downloading package punkt to\n",
      "[nltk_data]     C:\\Users\\iKame_LinhNK\\AppData\\Roaming\\nltk_data...\n",
      "[nltk_data]   Unzipping tokenizers\\punkt.zip.\n"
     ]
    },
    {
     "data": {
      "text/plain": [
       "True"
      ]
     },
     "execution_count": 57,
     "metadata": {},
     "output_type": "execute_result"
    }
   ],
   "source": [
    "import nltk\n",
    "nltk.download('punkt')"
   ]
  },
  {
   "cell_type": "code",
   "execution_count": 2,
   "id": "0962b14e",
   "metadata": {
    "scrolled": true
   },
   "outputs": [],
   "source": [
    "df_5=pd.read_excel(r\"C:\\Users\\iKame_LinhNK\\Downloads\\reviews_reviews_com.citybay.farming.citybuilding_202205.xlsx\")\n",
    "df_6=pd.read_excel(r\"C:\\Users\\iKame_LinhNK\\Downloads\\reviews_reviews_com.citybay.farming.citybuilding_202206.xlsx\")\n",
    "df_7=pd.read_excel(r\"C:\\Users\\iKame_LinhNK\\Downloads\\reviews_reviews_com.citybay.farming.citybuilding_202207.xlsx\")"
   ]
  },
  {
   "cell_type": "code",
   "execution_count": 3,
   "id": "e65ccfa6",
   "metadata": {},
   "outputs": [],
   "source": [
    "df_all=pd.concat([df_5,df_6,df_7])"
   ]
  },
  {
   "cell_type": "code",
   "execution_count": 5,
   "id": "c49c3d02",
   "metadata": {},
   "outputs": [
    {
     "data": {
      "text/plain": [
       "Index(['Package Name', 'App Version Code', 'App Version Name',\n",
       "       'Reviewer Language', 'Device', 'Review Submit Date and Time',\n",
       "       'Review Submit Millis Since Epoch', 'Review Last Update Date and Time',\n",
       "       'Review Last Update Millis Since Epoch', 'Star Rating', 'Review Title',\n",
       "       'Review Text', 'Developer Reply Date and Time',\n",
       "       'Developer Reply Millis Since Epoch', 'Developer Reply Text',\n",
       "       'Review Link'],\n",
       "      dtype='object')"
      ]
     },
     "execution_count": 5,
     "metadata": {},
     "output_type": "execute_result"
    }
   ],
   "source": [
    "df_all.columns"
   ]
  },
  {
   "cell_type": "markdown",
   "id": "680eb0a6",
   "metadata": {},
   "source": [
    "### Translate \n",
    "- All non-en reviews will be translated to en \n"
   ]
  },
  {
   "cell_type": "code",
   "execution_count": null,
   "id": "36ade930",
   "metadata": {},
   "outputs": [],
   "source": [
    "def translate(text, source):\n",
    "    translated_text=''\n",
    "    if text:\n",
    "        if source.lower()=='en':\n",
    "            translated_text=text \n",
    "        else: \n",
    "            translator = Translator()\n",
    "            try:\n",
    "                translated_text = translator.translate(text, src=source).text\n",
    "            except:\n",
    "                detected_lang=translator.detect(text).lang\n",
    "                translated_text = translator.translate(text, src=detected_lang).text \n",
    "    return translated_text"
   ]
  },
  {
   "cell_type": "code",
   "execution_count": 22,
   "id": "219e2591",
   "metadata": {},
   "outputs": [
    {
     "data": {
      "text/plain": [
       "'es'"
      ]
     },
     "execution_count": 22,
     "metadata": {},
     "output_type": "execute_result"
    }
   ],
   "source": [
    "translator = Translator()\n",
    "translator.detect(text='Es divertido').lang"
   ]
  },
  {
   "cell_type": "code",
   "execution_count": 26,
   "id": "11aace52",
   "metadata": {},
   "outputs": [],
   "source": [
    "df_all['translated_text']=df_all.apply(lambda row: translate(text=row['Review Text'], source=row['Reviewer Language']), axis = 1)"
   ]
  },
  {
   "cell_type": "code",
   "execution_count": 30,
   "id": "7018e060",
   "metadata": {},
   "outputs": [],
   "source": [
    "def extract_text(text):\n",
    "    try:\n",
    "        return text.text\n",
    "    except:\n",
    "        return text"
   ]
  },
  {
   "cell_type": "code",
   "execution_count": 31,
   "id": "12c1dd4d",
   "metadata": {},
   "outputs": [],
   "source": [
    "df_all['final_translated_text']=df_all.translated_text.apply(lambda x: extract_text(x))"
   ]
  },
  {
   "cell_type": "code",
   "execution_count": 36,
   "id": "ae1dc444",
   "metadata": {},
   "outputs": [],
   "source": [
    "df_all['final_translated_text']=df_all.final_translated_text.apply(lambda x: str(x).lower() if x else str(x))"
   ]
  },
  {
   "cell_type": "code",
   "execution_count": 38,
   "id": "eec6a1c3",
   "metadata": {},
   "outputs": [
    {
     "data": {
      "text/html": [
       "<div>\n",
       "<style scoped>\n",
       "    .dataframe tbody tr th:only-of-type {\n",
       "        vertical-align: middle;\n",
       "    }\n",
       "\n",
       "    .dataframe tbody tr th {\n",
       "        vertical-align: top;\n",
       "    }\n",
       "\n",
       "    .dataframe thead th {\n",
       "        text-align: right;\n",
       "    }\n",
       "</style>\n",
       "<table border=\"1\" class=\"dataframe\">\n",
       "  <thead>\n",
       "    <tr style=\"text-align: right;\">\n",
       "      <th></th>\n",
       "      <th>Package Name</th>\n",
       "      <th>App Version Code</th>\n",
       "      <th>App Version Name</th>\n",
       "      <th>Reviewer Language</th>\n",
       "      <th>Device</th>\n",
       "      <th>Review Submit Date and Time</th>\n",
       "      <th>Review Submit Millis Since Epoch</th>\n",
       "      <th>Review Last Update Date and Time</th>\n",
       "      <th>Review Last Update Millis Since Epoch</th>\n",
       "      <th>Star Rating</th>\n",
       "      <th>Review Title</th>\n",
       "      <th>Review Text</th>\n",
       "      <th>Developer Reply Date and Time</th>\n",
       "      <th>Developer Reply Millis Since Epoch</th>\n",
       "      <th>Developer Reply Text</th>\n",
       "      <th>Review Link</th>\n",
       "      <th>translated_text</th>\n",
       "      <th>final_translated_text</th>\n",
       "    </tr>\n",
       "  </thead>\n",
       "  <tbody>\n",
       "    <tr>\n",
       "      <th>0</th>\n",
       "      <td>com.citybay.farming.citybuilding</td>\n",
       "      <td>NaN</td>\n",
       "      <td>NaN</td>\n",
       "      <td>id</td>\n",
       "      <td>1904.0</td>\n",
       "      <td>2022-05-01T00:00:24Z</td>\n",
       "      <td>1.651363e+12</td>\n",
       "      <td>2022-05-01T00:00:24Z</td>\n",
       "      <td>1.651363e+12</td>\n",
       "      <td>5.0</td>\n",
       "      <td>NaN</td>\n",
       "      <td>NaN</td>\n",
       "      <td>NaN</td>\n",
       "      <td>NaN</td>\n",
       "      <td>NaN</td>\n",
       "      <td>NaN</td>\n",
       "      <td>Translated(src=id, dest=en, text=nan, pronunci...</td>\n",
       "      <td>nan</td>\n",
       "    </tr>\n",
       "    <tr>\n",
       "      <th>1</th>\n",
       "      <td>com.citybay.farming.citybuilding</td>\n",
       "      <td>197.0</td>\n",
       "      <td>2.8.44</td>\n",
       "      <td>es</td>\n",
       "      <td>ginkgo</td>\n",
       "      <td>2022-05-01T00:20:11Z</td>\n",
       "      <td>1.651364e+12</td>\n",
       "      <td>2022-05-01T00:20:11Z</td>\n",
       "      <td>1.651364e+12</td>\n",
       "      <td>4.0</td>\n",
       "      <td>NaN</td>\n",
       "      <td>Es divertido</td>\n",
       "      <td>NaN</td>\n",
       "      <td>NaN</td>\n",
       "      <td>NaN</td>\n",
       "      <td>http://play.google.com/console/developers/4764...</td>\n",
       "      <td>Translated(src=es, dest=en, text=It's fun, pro...</td>\n",
       "      <td>it's fun</td>\n",
       "    </tr>\n",
       "    <tr>\n",
       "      <th>3</th>\n",
       "      <td>com.citybay.farming.citybuilding</td>\n",
       "      <td>197.0</td>\n",
       "      <td>2.8.44</td>\n",
       "      <td>pt</td>\n",
       "      <td>beyond2</td>\n",
       "      <td>2022-05-01T00:40:28Z</td>\n",
       "      <td>1.651366e+12</td>\n",
       "      <td>2022-05-01T00:40:28Z</td>\n",
       "      <td>1.651366e+12</td>\n",
       "      <td>5.0</td>\n",
       "      <td>NaN</td>\n",
       "      <td>Estou adorando o jogo</td>\n",
       "      <td>NaN</td>\n",
       "      <td>NaN</td>\n",
       "      <td>NaN</td>\n",
       "      <td>http://play.google.com/console/developers/4764...</td>\n",
       "      <td>Translated(src=pt, dest=en, text=I'm loving th...</td>\n",
       "      <td>i'm loving the game</td>\n",
       "    </tr>\n",
       "    <tr>\n",
       "      <th>4</th>\n",
       "      <td>com.citybay.farming.citybuilding</td>\n",
       "      <td>197.0</td>\n",
       "      <td>2.8.44</td>\n",
       "      <td>es</td>\n",
       "      <td>a7y18lte</td>\n",
       "      <td>2022-05-01T00:41:23Z</td>\n",
       "      <td>1.651366e+12</td>\n",
       "      <td>2022-05-01T00:41:23Z</td>\n",
       "      <td>1.651366e+12</td>\n",
       "      <td>5.0</td>\n",
       "      <td>NaN</td>\n",
       "      <td>Es un excelente juego</td>\n",
       "      <td>NaN</td>\n",
       "      <td>NaN</td>\n",
       "      <td>NaN</td>\n",
       "      <td>http://play.google.com/console/developers/4764...</td>\n",
       "      <td>Translated(src=es, dest=en, text=It's an excel...</td>\n",
       "      <td>it's an excellent game</td>\n",
       "    </tr>\n",
       "    <tr>\n",
       "      <th>5</th>\n",
       "      <td>com.citybay.farming.citybuilding</td>\n",
       "      <td>197.0</td>\n",
       "      <td>2.8.44</td>\n",
       "      <td>id</td>\n",
       "      <td>riva</td>\n",
       "      <td>2022-05-01T00:56:34Z</td>\n",
       "      <td>1.651367e+12</td>\n",
       "      <td>2022-05-01T00:56:34Z</td>\n",
       "      <td>1.651367e+12</td>\n",
       "      <td>5.0</td>\n",
       "      <td>NaN</td>\n",
       "      <td>NaN</td>\n",
       "      <td>NaN</td>\n",
       "      <td>NaN</td>\n",
       "      <td>NaN</td>\n",
       "      <td>NaN</td>\n",
       "      <td>Translated(src=id, dest=en, text=nan, pronunci...</td>\n",
       "      <td>nan</td>\n",
       "    </tr>\n",
       "  </tbody>\n",
       "</table>\n",
       "</div>"
      ],
      "text/plain": [
       "                       Package Name  App Version Code App Version Name  \\\n",
       "0  com.citybay.farming.citybuilding               NaN              NaN   \n",
       "1  com.citybay.farming.citybuilding             197.0           2.8.44   \n",
       "3  com.citybay.farming.citybuilding             197.0           2.8.44   \n",
       "4  com.citybay.farming.citybuilding             197.0           2.8.44   \n",
       "5  com.citybay.farming.citybuilding             197.0           2.8.44   \n",
       "\n",
       "  Reviewer Language    Device Review Submit Date and Time  \\\n",
       "0                id    1904.0        2022-05-01T00:00:24Z   \n",
       "1                es    ginkgo        2022-05-01T00:20:11Z   \n",
       "3                pt   beyond2        2022-05-01T00:40:28Z   \n",
       "4                es  a7y18lte        2022-05-01T00:41:23Z   \n",
       "5                id      riva        2022-05-01T00:56:34Z   \n",
       "\n",
       "   Review Submit Millis Since Epoch Review Last Update Date and Time  \\\n",
       "0                      1.651363e+12             2022-05-01T00:00:24Z   \n",
       "1                      1.651364e+12             2022-05-01T00:20:11Z   \n",
       "3                      1.651366e+12             2022-05-01T00:40:28Z   \n",
       "4                      1.651366e+12             2022-05-01T00:41:23Z   \n",
       "5                      1.651367e+12             2022-05-01T00:56:34Z   \n",
       "\n",
       "   Review Last Update Millis Since Epoch  Star Rating  Review Title  \\\n",
       "0                           1.651363e+12          5.0           NaN   \n",
       "1                           1.651364e+12          4.0           NaN   \n",
       "3                           1.651366e+12          5.0           NaN   \n",
       "4                           1.651366e+12          5.0           NaN   \n",
       "5                           1.651367e+12          5.0           NaN   \n",
       "\n",
       "             Review Text Developer Reply Date and Time  \\\n",
       "0                    NaN                           NaN   \n",
       "1           Es divertido                           NaN   \n",
       "3  Estou adorando o jogo                           NaN   \n",
       "4  Es un excelente juego                           NaN   \n",
       "5                    NaN                           NaN   \n",
       "\n",
       "   Developer Reply Millis Since Epoch Developer Reply Text  \\\n",
       "0                                 NaN                  NaN   \n",
       "1                                 NaN                  NaN   \n",
       "3                                 NaN                  NaN   \n",
       "4                                 NaN                  NaN   \n",
       "5                                 NaN                  NaN   \n",
       "\n",
       "                                         Review Link  \\\n",
       "0                                                NaN   \n",
       "1  http://play.google.com/console/developers/4764...   \n",
       "3  http://play.google.com/console/developers/4764...   \n",
       "4  http://play.google.com/console/developers/4764...   \n",
       "5                                                NaN   \n",
       "\n",
       "                                     translated_text   final_translated_text  \n",
       "0  Translated(src=id, dest=en, text=nan, pronunci...                     nan  \n",
       "1  Translated(src=es, dest=en, text=It's fun, pro...                it's fun  \n",
       "3  Translated(src=pt, dest=en, text=I'm loving th...     i'm loving the game  \n",
       "4  Translated(src=es, dest=en, text=It's an excel...  it's an excellent game  \n",
       "5  Translated(src=id, dest=en, text=nan, pronunci...                     nan  "
      ]
     },
     "execution_count": 38,
     "metadata": {},
     "output_type": "execute_result"
    }
   ],
   "source": [
    "df_all[(df_all['Reviewer Language'] != 'en') & (~df_all.translated_text.isna())].head()"
   ]
  },
  {
   "cell_type": "code",
   "execution_count": 68,
   "id": "c27394f6",
   "metadata": {},
   "outputs": [],
   "source": [
    "df_all['comment_id']=range(1,19394)"
   ]
  },
  {
   "cell_type": "code",
   "execution_count": 87,
   "id": "497e3970",
   "metadata": {},
   "outputs": [
    {
     "data": {
      "text/plain": [
       "array([nan])"
      ]
     },
     "execution_count": 87,
     "metadata": {},
     "output_type": "execute_result"
    }
   ],
   "source": [
    "df_all['Review Title'].unique()"
   ]
  },
  {
   "cell_type": "markdown",
   "id": "3e4afa17",
   "metadata": {},
   "source": [
    "### Tokenize  \n",
    "- Reduce the word to its core \n",
    "- Remove punctation"
   ]
  },
  {
   "cell_type": "code",
   "execution_count": 169,
   "id": "8d253932",
   "metadata": {},
   "outputs": [],
   "source": [
    "df_comment=df_all[['final_translated_text', 'comment_id']]"
   ]
  },
  {
   "cell_type": "code",
   "execution_count": 170,
   "id": "70a0e813",
   "metadata": {},
   "outputs": [],
   "source": [
    "df_comment=df_comment[df_comment.final_translated_text!='nan']"
   ]
  },
  {
   "cell_type": "code",
   "execution_count": 171,
   "id": "4a63d2cc",
   "metadata": {},
   "outputs": [
    {
     "data": {
      "text/plain": [
       "8084"
      ]
     },
     "execution_count": 171,
     "metadata": {},
     "output_type": "execute_result"
    }
   ],
   "source": [
    "len(df_comment)"
   ]
  },
  {
   "cell_type": "code",
   "execution_count": 173,
   "id": "3200cbe4",
   "metadata": {},
   "outputs": [],
   "source": [
    "#remove punctuation \n",
    "table = str.maketrans(dict.fromkeys(string.punctuation.replace(\"'\", ''))) \n",
    "df_comment['final_translated_text']=df_comment.final_translated_text.apply(lambda x: x.translate(table))"
   ]
  },
  {
   "cell_type": "markdown",
   "id": "c38836c6",
   "metadata": {},
   "source": [
    "### Remove stopwords"
   ]
  },
  {
   "cell_type": "code",
   "execution_count": 175,
   "id": "6ac2b381",
   "metadata": {},
   "outputs": [],
   "source": [
    "stop_words = set(stopwords.words(\"english\"))\n",
    "stop_words.remove('not')\n",
    "def remove_stopwords(sentence):\n",
    "    filtered_list = []\n",
    "    ls_words=sentence.split()\n",
    "    for word in ls_words:\n",
    "        if word.casefold() not in stop_words:\n",
    "            filtered_list.append(word)\n",
    "    return filtered_list"
   ]
  },
  {
   "cell_type": "code",
   "execution_count": 176,
   "id": "b0d27229",
   "metadata": {},
   "outputs": [],
   "source": [
    "df_comment['tokens_without_stopwords']=df_comment.final_translated_text.apply(lambda x: remove_stopwords(x))"
   ]
  },
  {
   "cell_type": "code",
   "execution_count": 177,
   "id": "8619ad0f",
   "metadata": {},
   "outputs": [
    {
     "data": {
      "text/html": [
       "<div>\n",
       "<style scoped>\n",
       "    .dataframe tbody tr th:only-of-type {\n",
       "        vertical-align: middle;\n",
       "    }\n",
       "\n",
       "    .dataframe tbody tr th {\n",
       "        vertical-align: top;\n",
       "    }\n",
       "\n",
       "    .dataframe thead th {\n",
       "        text-align: right;\n",
       "    }\n",
       "</style>\n",
       "<table border=\"1\" class=\"dataframe\">\n",
       "  <thead>\n",
       "    <tr style=\"text-align: right;\">\n",
       "      <th></th>\n",
       "      <th>final_translated_text</th>\n",
       "      <th>comment_id</th>\n",
       "      <th>tokens_without_stopwords</th>\n",
       "    </tr>\n",
       "  </thead>\n",
       "  <tbody>\n",
       "    <tr>\n",
       "      <th>1</th>\n",
       "      <td>it's fun</td>\n",
       "      <td>2</td>\n",
       "      <td>[fun]</td>\n",
       "    </tr>\n",
       "    <tr>\n",
       "      <th>3</th>\n",
       "      <td>i'm loving the game</td>\n",
       "      <td>4</td>\n",
       "      <td>[i'm, loving, game]</td>\n",
       "    </tr>\n",
       "    <tr>\n",
       "      <th>4</th>\n",
       "      <td>it's an excellent game</td>\n",
       "      <td>5</td>\n",
       "      <td>[excellent, game]</td>\n",
       "    </tr>\n",
       "    <tr>\n",
       "      <th>6</th>\n",
       "      <td>super cool games</td>\n",
       "      <td>7</td>\n",
       "      <td>[super, cool, games]</td>\n",
       "    </tr>\n",
       "    <tr>\n",
       "      <th>7</th>\n",
       "      <td>nope</td>\n",
       "      <td>8</td>\n",
       "      <td>[nope]</td>\n",
       "    </tr>\n",
       "    <tr>\n",
       "      <th>11</th>\n",
       "      <td>i delete all progress and it does not allow to...</td>\n",
       "      <td>12</td>\n",
       "      <td>[delete, progress, not, allow, link, fb]</td>\n",
       "    </tr>\n",
       "    <tr>\n",
       "      <th>12</th>\n",
       "      <td>like so much</td>\n",
       "      <td>13</td>\n",
       "      <td>[like, much]</td>\n",
       "    </tr>\n",
       "    <tr>\n",
       "      <th>16</th>\n",
       "      <td>very good</td>\n",
       "      <td>17</td>\n",
       "      <td>[good]</td>\n",
       "    </tr>\n",
       "    <tr>\n",
       "      <th>17</th>\n",
       "      <td>prefer</td>\n",
       "      <td>18</td>\n",
       "      <td>[prefer]</td>\n",
       "    </tr>\n",
       "    <tr>\n",
       "      <th>19</th>\n",
       "      <td>just want to try it i'll give it full stars</td>\n",
       "      <td>20</td>\n",
       "      <td>[want, try, i'll, give, full, stars]</td>\n",
       "    </tr>\n",
       "  </tbody>\n",
       "</table>\n",
       "</div>"
      ],
      "text/plain": [
       "                                final_translated_text  comment_id  \\\n",
       "1                                            it's fun           2   \n",
       "3                                 i'm loving the game           4   \n",
       "4                              it's an excellent game           5   \n",
       "6                                    super cool games           7   \n",
       "7                                                nope           8   \n",
       "11  i delete all progress and it does not allow to...          12   \n",
       "12                                       like so much          13   \n",
       "16                                          very good          17   \n",
       "17                                             prefer          18   \n",
       "19        just want to try it i'll give it full stars          20   \n",
       "\n",
       "                    tokens_without_stopwords  \n",
       "1                                      [fun]  \n",
       "3                        [i'm, loving, game]  \n",
       "4                          [excellent, game]  \n",
       "6                       [super, cool, games]  \n",
       "7                                     [nope]  \n",
       "11  [delete, progress, not, allow, link, fb]  \n",
       "12                              [like, much]  \n",
       "16                                    [good]  \n",
       "17                                  [prefer]  \n",
       "19      [want, try, i'll, give, full, stars]  "
      ]
     },
     "execution_count": 177,
     "metadata": {},
     "output_type": "execute_result"
    }
   ],
   "source": [
    "df_comment.head(10)"
   ]
  },
  {
   "cell_type": "markdown",
   "id": "70166451",
   "metadata": {},
   "source": [
    "### Lemmatize Verb \n",
    "\n",
    "- Reduce all verbs to V-infinitive "
   ]
  },
  {
   "cell_type": "code",
   "execution_count": 178,
   "id": "9ef92b9b",
   "metadata": {},
   "outputs": [],
   "source": [
    "lemmatizer = WordNetLemmatizer()"
   ]
  },
  {
   "cell_type": "code",
   "execution_count": 179,
   "id": "4aa7dbae",
   "metadata": {},
   "outputs": [
    {
     "data": {
      "text/plain": [
       "['love', 'addictive', 'game']"
      ]
     },
     "execution_count": 179,
     "metadata": {},
     "output_type": "execute_result"
    }
   ],
   "source": [
    "#lemmatize verb \n",
    "x=['loved', 'addictive', 'game']\n",
    "[lemmatizer.lemmatize(word, pos=\"v\") for word in x] "
   ]
  },
  {
   "cell_type": "code",
   "execution_count": 180,
   "id": "88f0b5ae",
   "metadata": {
    "scrolled": false
   },
   "outputs": [],
   "source": [
    "df_comment['tokens_lemmatize']=df_comment.tokens_without_stopwords.apply(lambda x: [lemmatizer.lemmatize(word, pos=\"v\") for word in x])"
   ]
  },
  {
   "cell_type": "code",
   "execution_count": 181,
   "id": "75197d97",
   "metadata": {},
   "outputs": [
    {
     "data": {
      "text/html": [
       "<div>\n",
       "<style scoped>\n",
       "    .dataframe tbody tr th:only-of-type {\n",
       "        vertical-align: middle;\n",
       "    }\n",
       "\n",
       "    .dataframe tbody tr th {\n",
       "        vertical-align: top;\n",
       "    }\n",
       "\n",
       "    .dataframe thead th {\n",
       "        text-align: right;\n",
       "    }\n",
       "</style>\n",
       "<table border=\"1\" class=\"dataframe\">\n",
       "  <thead>\n",
       "    <tr style=\"text-align: right;\">\n",
       "      <th></th>\n",
       "      <th>final_translated_text</th>\n",
       "      <th>comment_id</th>\n",
       "      <th>tokens_without_stopwords</th>\n",
       "      <th>tokens_lemmatize</th>\n",
       "    </tr>\n",
       "  </thead>\n",
       "  <tbody>\n",
       "    <tr>\n",
       "      <th>1</th>\n",
       "      <td>it's fun</td>\n",
       "      <td>2</td>\n",
       "      <td>[fun]</td>\n",
       "      <td>[fun]</td>\n",
       "    </tr>\n",
       "    <tr>\n",
       "      <th>3</th>\n",
       "      <td>i'm loving the game</td>\n",
       "      <td>4</td>\n",
       "      <td>[i'm, loving, game]</td>\n",
       "      <td>[i'm, love, game]</td>\n",
       "    </tr>\n",
       "    <tr>\n",
       "      <th>4</th>\n",
       "      <td>it's an excellent game</td>\n",
       "      <td>5</td>\n",
       "      <td>[excellent, game]</td>\n",
       "      <td>[excellent, game]</td>\n",
       "    </tr>\n",
       "    <tr>\n",
       "      <th>6</th>\n",
       "      <td>super cool games</td>\n",
       "      <td>7</td>\n",
       "      <td>[super, cool, games]</td>\n",
       "      <td>[super, cool, game]</td>\n",
       "    </tr>\n",
       "    <tr>\n",
       "      <th>7</th>\n",
       "      <td>nope</td>\n",
       "      <td>8</td>\n",
       "      <td>[nope]</td>\n",
       "      <td>[nope]</td>\n",
       "    </tr>\n",
       "    <tr>\n",
       "      <th>11</th>\n",
       "      <td>i delete all progress and it does not allow to...</td>\n",
       "      <td>12</td>\n",
       "      <td>[delete, progress, not, allow, link, fb]</td>\n",
       "      <td>[delete, progress, not, allow, link, fb]</td>\n",
       "    </tr>\n",
       "    <tr>\n",
       "      <th>12</th>\n",
       "      <td>like so much</td>\n",
       "      <td>13</td>\n",
       "      <td>[like, much]</td>\n",
       "      <td>[like, much]</td>\n",
       "    </tr>\n",
       "    <tr>\n",
       "      <th>16</th>\n",
       "      <td>very good</td>\n",
       "      <td>17</td>\n",
       "      <td>[good]</td>\n",
       "      <td>[good]</td>\n",
       "    </tr>\n",
       "    <tr>\n",
       "      <th>17</th>\n",
       "      <td>prefer</td>\n",
       "      <td>18</td>\n",
       "      <td>[prefer]</td>\n",
       "      <td>[prefer]</td>\n",
       "    </tr>\n",
       "    <tr>\n",
       "      <th>19</th>\n",
       "      <td>just want to try it i'll give it full stars</td>\n",
       "      <td>20</td>\n",
       "      <td>[want, try, i'll, give, full, stars]</td>\n",
       "      <td>[want, try, i'll, give, full, star]</td>\n",
       "    </tr>\n",
       "  </tbody>\n",
       "</table>\n",
       "</div>"
      ],
      "text/plain": [
       "                                final_translated_text  comment_id  \\\n",
       "1                                            it's fun           2   \n",
       "3                                 i'm loving the game           4   \n",
       "4                              it's an excellent game           5   \n",
       "6                                    super cool games           7   \n",
       "7                                                nope           8   \n",
       "11  i delete all progress and it does not allow to...          12   \n",
       "12                                       like so much          13   \n",
       "16                                          very good          17   \n",
       "17                                             prefer          18   \n",
       "19        just want to try it i'll give it full stars          20   \n",
       "\n",
       "                    tokens_without_stopwords  \\\n",
       "1                                      [fun]   \n",
       "3                        [i'm, loving, game]   \n",
       "4                          [excellent, game]   \n",
       "6                       [super, cool, games]   \n",
       "7                                     [nope]   \n",
       "11  [delete, progress, not, allow, link, fb]   \n",
       "12                              [like, much]   \n",
       "16                                    [good]   \n",
       "17                                  [prefer]   \n",
       "19      [want, try, i'll, give, full, stars]   \n",
       "\n",
       "                            tokens_lemmatize  \n",
       "1                                      [fun]  \n",
       "3                          [i'm, love, game]  \n",
       "4                          [excellent, game]  \n",
       "6                        [super, cool, game]  \n",
       "7                                     [nope]  \n",
       "11  [delete, progress, not, allow, link, fb]  \n",
       "12                              [like, much]  \n",
       "16                                    [good]  \n",
       "17                                  [prefer]  \n",
       "19       [want, try, i'll, give, full, star]  "
      ]
     },
     "execution_count": 181,
     "metadata": {},
     "output_type": "execute_result"
    }
   ],
   "source": [
    "df_comment.head(10)"
   ]
  },
  {
   "cell_type": "code",
   "execution_count": 192,
   "id": "c8d60492",
   "metadata": {},
   "outputs": [],
   "source": [
    "df_comment_explode=df_comment.explode('tokens_lemmatize')"
   ]
  },
  {
   "cell_type": "code",
   "execution_count": 193,
   "id": "778331f5",
   "metadata": {},
   "outputs": [],
   "source": [
    "df_all=df_all.merge(df_comment_explode, on=['comment_id', 'final_translated_text'], how='left')"
   ]
  },
  {
   "cell_type": "code",
   "execution_count": 223,
   "id": "6d588dad",
   "metadata": {},
   "outputs": [],
   "source": [
    "df_all['total_words']=df_all.final_translated_text.apply(lambda x: len(x.split()) )"
   ]
  },
  {
   "cell_type": "code",
   "execution_count": 225,
   "id": "fcf27e3d",
   "metadata": {},
   "outputs": [],
   "source": [
    "df_all.to_csv('Farm_user_review_keywords.csv')"
   ]
  },
  {
   "cell_type": "code",
   "execution_count": null,
   "id": "542db84e",
   "metadata": {},
   "outputs": [],
   "source": []
  }
 ],
 "metadata": {
  "kernelspec": {
   "display_name": "Python 3 (ipykernel)",
   "language": "python",
   "name": "python3"
  },
  "language_info": {
   "codemirror_mode": {
    "name": "ipython",
    "version": 3
   },
   "file_extension": ".py",
   "mimetype": "text/x-python",
   "name": "python",
   "nbconvert_exporter": "python",
   "pygments_lexer": "ipython3",
   "version": "3.10.4"
  }
 },
 "nbformat": 4,
 "nbformat_minor": 5
}
